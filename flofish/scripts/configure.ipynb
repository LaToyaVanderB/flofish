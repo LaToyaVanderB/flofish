{
 "cells": [
  {
   "cell_type": "code",
   "execution_count": 1,
   "id": "9e45676b-12b6-40d7-b3af-493633d2e509",
   "metadata": {},
   "outputs": [],
   "source": [
    "import time, logging"
   ]
  },
  {
   "cell_type": "code",
   "execution_count": 2,
   "id": "3f62f391-a50a-4f45-9a68-1839fb21169c",
   "metadata": {},
   "outputs": [
    {
     "name": "stdout",
     "output_type": "stream",
     "text": [
      "\u001b[38;5;197m2025-02-23 18:21:38,881\t[INFO]     omnipose/gpu.py               <module>....()\t line   9\tOn ARM, OMP_NUM_THREADS set to 1\u001b[0m\n"
     ]
    },
    {
     "data": {
      "text/html": [
       "\n",
       "\t\t\t<script type=\"text/javascript\">\n",
       "\t\t\t<!--\n",
       "\t\t\t\t\n",
       "\t\t\t{\n",
       "\t\t\t\tvar element = document.getElementById('NetworKit_script');\n",
       "\t\t\t\tif (element) {\n",
       "\t\t\t\t\telement.parentNode.removeChild(element);\n",
       "\t\t\t\t}\n",
       "\t\t\t\telement = document.createElement('script');\n",
       "\t\t\t\telement.type = 'text/javascript';\n",
       "\t\t\t\telement.innerHTML = 'function NetworKit_pageEmbed(id) { var i, j; var elements; elements = document.getElementById(id).getElementsByClassName(\"Plot\"); for (i=0; i<elements.length; i++) { elements[i].id = id + \"_Plot_\" + i; var data = elements[i].getAttribute(\"data-image\").split(\"|\"); elements[i].removeAttribute(\"data-image\"); var content = \"<div class=\\\\\"Image\\\\\" id=\\\\\"\" + elements[i].id + \"_Image\\\\\" />\"; elements[i].innerHTML = content; elements[i].setAttribute(\"data-image-index\", 0); elements[i].setAttribute(\"data-image-length\", data.length); for (j=0; j<data.length; j++) { elements[i].setAttribute(\"data-image-\" + j, data[j]); } NetworKit_plotUpdate(elements[i]); elements[i].onclick = function (e) { NetworKit_overlayShow((e.target) ? e.target : e.srcElement); } } elements = document.getElementById(id).getElementsByClassName(\"HeatCell\"); for (i=0; i<elements.length; i++) { var data = parseFloat(elements[i].getAttribute(\"data-heat\")); var color = \"#00FF00\"; if (data <= 1 && data > 0) { color = \"hsla(0, 100%, 75%, \" + (data) + \")\"; } else if (data <= 0 && data >= -1) { color = \"hsla(240, 100%, 75%, \" + (-data) + \")\"; } elements[i].style.backgroundColor = color; } elements = document.getElementById(id).getElementsByClassName(\"Details\"); for (i=0; i<elements.length; i++) { elements[i].setAttribute(\"data-title\", \"-\"); NetworKit_toggleDetails(elements[i]); elements[i].onclick = function (e) { NetworKit_toggleDetails((e.target) ? e.target : e.srcElement); } } elements = document.getElementById(id).getElementsByClassName(\"MathValue\"); for (i=elements.length-1; i>=0; i--) { value = elements[i].innerHTML.trim(); if (value === \"nan\") { elements[i].parentNode.innerHTML = \"\" } } elements = document.getElementById(id).getElementsByClassName(\"SubCategory\"); for (i=elements.length-1; i>=0; i--) { value = elements[i].innerHTML.trim(); if (value === \"\") { elements[i].parentNode.removeChild(elements[i]) } } elements = document.getElementById(id).getElementsByClassName(\"Category\"); for (i=elements.length-1; i>=0; i--) { value = elements[i].innerHTML.trim(); if (value === \"\") { elements[i].parentNode.removeChild(elements[i]) } } var isFirefox = false; try { isFirefox = typeof InstallTrigger !== \"undefined\"; } catch (e) {} if (!isFirefox) { alert(\"Currently the function\\'s output is only fully supported by Firefox.\"); } } function NetworKit_plotUpdate(source) { var index = source.getAttribute(\"data-image-index\"); var data = source.getAttribute(\"data-image-\" + index); var image = document.getElementById(source.id + \"_Image\"); image.style.backgroundImage = \"url(\" + data + \")\"; } function NetworKit_showElement(id, show) { var element = document.getElementById(id); element.style.display = (show) ? \"block\" : \"none\"; } function NetworKit_overlayShow(source) { NetworKit_overlayUpdate(source); NetworKit_showElement(\"NetworKit_Overlay\", true); } function NetworKit_overlayUpdate(source) { document.getElementById(\"NetworKit_Overlay_Title\").innerHTML = source.title; var index = source.getAttribute(\"data-image-index\"); var data = source.getAttribute(\"data-image-\" + index); var image = document.getElementById(\"NetworKit_Overlay_Image\"); image.setAttribute(\"data-id\", source.id); image.style.backgroundImage = \"url(\" + data + \")\"; var link = document.getElementById(\"NetworKit_Overlay_Toolbar_Bottom_Save\"); link.href = data; link.download = source.title + \".svg\"; } function NetworKit_overlayImageShift(delta) { var image = document.getElementById(\"NetworKit_Overlay_Image\"); var source = document.getElementById(image.getAttribute(\"data-id\")); var index = parseInt(source.getAttribute(\"data-image-index\")); var length = parseInt(source.getAttribute(\"data-image-length\")); var index = (index+delta) % length; if (index < 0) { index = length + index; } source.setAttribute(\"data-image-index\", index); NetworKit_overlayUpdate(source); } function NetworKit_toggleDetails(source) { var childs = source.children; var show = false; if (source.getAttribute(\"data-title\") == \"-\") { source.setAttribute(\"data-title\", \"+\"); show = false; } else { source.setAttribute(\"data-title\", \"-\"); show = true; } for (i=0; i<childs.length; i++) { if (show) { childs[i].style.display = \"block\"; } else { childs[i].style.display = \"none\"; } } }';\n",
       "\t\t\t\telement.setAttribute('id', 'NetworKit_script');\n",
       "\t\t\t\tdocument.head.appendChild(element);\n",
       "\t\t\t}\n",
       "\t\t\n",
       "\t\t\t\t\n",
       "\t\t\t{\n",
       "\t\t\t\tvar element = document.getElementById('NetworKit_style');\n",
       "\t\t\t\tif (element) {\n",
       "\t\t\t\t\telement.parentNode.removeChild(element);\n",
       "\t\t\t\t}\n",
       "\t\t\t\telement = document.createElement('style');\n",
       "\t\t\t\telement.type = 'text/css';\n",
       "\t\t\t\telement.innerHTML = '.NetworKit_Page { font-family: Arial, Helvetica, sans-serif; font-size: 14px; } .NetworKit_Page .Value:before { font-family: Arial, Helvetica, sans-serif; font-size: 1.05em; content: attr(data-title) \":\"; margin-left: -2.5em; padding-right: 0.5em; } .NetworKit_Page .Details .Value:before { display: block; } .NetworKit_Page .Value { font-family: monospace; white-space: pre; padding-left: 2.5em; white-space: -moz-pre-wrap !important; white-space: -pre-wrap; white-space: -o-pre-wrap; white-space: pre-wrap; word-wrap: break-word; tab-size: 4; -moz-tab-size: 4; } .NetworKit_Page .Category { clear: both; padding-left: 1em; margin-bottom: 1.5em; } .NetworKit_Page .Category:before { content: attr(data-title); font-size: 1.75em; display: block; margin-left: -0.8em; margin-bottom: 0.5em; } .NetworKit_Page .SubCategory { margin-bottom: 1.5em; padding-left: 1em; } .NetworKit_Page .SubCategory:before { font-size: 1.6em; display: block; margin-left: -0.8em; margin-bottom: 0.5em; } .NetworKit_Page .SubCategory[data-title]:before { content: attr(data-title); } .NetworKit_Page .Block { display: block; } .NetworKit_Page .Block:after { content: \".\"; visibility: hidden; display: block; height: 0; clear: both; } .NetworKit_Page .Block .Thumbnail_Overview, .NetworKit_Page .Block .Thumbnail_ScatterPlot { width: 260px; float: left; } .NetworKit_Page .Block .Thumbnail_Overview img, .NetworKit_Page .Block .Thumbnail_ScatterPlot img { width: 260px; } .NetworKit_Page .Block .Thumbnail_Overview:before, .NetworKit_Page .Block .Thumbnail_ScatterPlot:before { display: block; text-align: center; font-weight: bold; } .NetworKit_Page .Block .Thumbnail_Overview:before { content: attr(data-title); } .NetworKit_Page .HeatCell { font-family: \"Courier New\", Courier, monospace; cursor: pointer; } .NetworKit_Page .HeatCell, .NetworKit_Page .HeatCellName { display: inline; padding: 0.1em; margin-right: 2px; background-color: #FFFFFF } .NetworKit_Page .HeatCellName { margin-left: 0.25em; } .NetworKit_Page .HeatCell:before { content: attr(data-heat); display: inline-block; color: #000000; width: 4em; text-align: center; } .NetworKit_Page .Measure { clear: both; } .NetworKit_Page .Measure .Details { cursor: pointer; } .NetworKit_Page .Measure .Details:before { content: \"[\" attr(data-title) \"]\"; display: block; } .NetworKit_Page .Measure .Details .Value { border-left: 1px dotted black; margin-left: 0.4em; padding-left: 3.5em; pointer-events: none; } .NetworKit_Page .Measure .Details .Spacer:before { content: \".\"; opacity: 0.0; pointer-events: none; } .NetworKit_Page .Measure .Plot { width: 440px; height: 440px; cursor: pointer; float: left; margin-left: -0.9em; margin-right: 20px; } .NetworKit_Page .Measure .Plot .Image { background-repeat: no-repeat; background-position: center center; background-size: contain; height: 100%; pointer-events: none; } .NetworKit_Page .Measure .Stat { width: 500px; float: left; } .NetworKit_Page .Measure .Stat .Group { padding-left: 1.25em; margin-bottom: 0.75em; } .NetworKit_Page .Measure .Stat .Group .Title { font-size: 1.1em; display: block; margin-bottom: 0.3em; margin-left: -0.75em; border-right-style: dotted; border-right-width: 1px; border-bottom-style: dotted; border-bottom-width: 1px; background-color: #D0D0D0; padding-left: 0.2em; } .NetworKit_Page .Measure .Stat .Group .List { -webkit-column-count: 3; -moz-column-count: 3; column-count: 3; } .NetworKit_Page .Measure .Stat .Group .List .Entry { position: relative; line-height: 1.75em; } .NetworKit_Page .Measure .Stat .Group .List .Entry[data-tooltip]:before { position: absolute; left: 0; top: -40px; background-color: #808080; color: #ffffff; height: 30px; line-height: 30px; border-radius: 5px; padding: 0 15px; content: attr(data-tooltip); white-space: nowrap; display: none; } .NetworKit_Page .Measure .Stat .Group .List .Entry[data-tooltip]:after { position: absolute; left: 15px; top: -10px; border-top: 7px solid #808080; border-left: 7px solid transparent; border-right: 7px solid transparent; content: \"\"; display: none; } .NetworKit_Page .Measure .Stat .Group .List .Entry[data-tooltip]:hover:after, .NetworKit_Page .Measure .Stat .Group .List .Entry[data-tooltip]:hover:before { display: block; } .NetworKit_Page .Measure .Stat .Group .List .Entry .MathValue { font-family: \"Courier New\", Courier, monospace; } .NetworKit_Page .Measure:after { content: \".\"; visibility: hidden; display: block; height: 0; clear: both; } .NetworKit_Page .PartitionPie { clear: both; } .NetworKit_Page .PartitionPie img { width: 600px; } #NetworKit_Overlay { left: 0px; top: 0px; display: none; position: absolute; width: 100%; height: 100%; background-color: rgba(0,0,0,0.6); z-index: 1000; } #NetworKit_Overlay_Title { position: absolute; color: white; transform: rotate(-90deg); width: 32em; height: 32em; padding-right: 0.5em; padding-top: 0.5em; text-align: right; font-size: 40px; } #NetworKit_Overlay .button { background: white; cursor: pointer; } #NetworKit_Overlay .button:before { size: 13px; display: inline-block; text-align: center; margin-top: 0.5em; margin-bottom: 0.5em; width: 1.5em; height: 1.5em; } #NetworKit_Overlay .icon-close:before { content: \"X\"; } #NetworKit_Overlay .icon-previous:before { content: \"P\"; } #NetworKit_Overlay .icon-next:before { content: \"N\"; } #NetworKit_Overlay .icon-save:before { content: \"S\"; } #NetworKit_Overlay_Toolbar_Top, #NetworKit_Overlay_Toolbar_Bottom { position: absolute; width: 40px; right: 13px; text-align: right; z-index: 1100; } #NetworKit_Overlay_Toolbar_Top { top: 0.5em; } #NetworKit_Overlay_Toolbar_Bottom { Bottom: 0.5em; } #NetworKit_Overlay_ImageContainer { position: absolute; top: 5%; left: 5%; height: 90%; width: 90%; background-repeat: no-repeat; background-position: center center; background-size: contain; } #NetworKit_Overlay_Image { height: 100%; width: 100%; background-repeat: no-repeat; background-position: center center; background-size: contain; }';\n",
       "\t\t\t\telement.setAttribute('id', 'NetworKit_style');\n",
       "\t\t\t\tdocument.head.appendChild(element);\n",
       "\t\t\t}\n",
       "\t\t\n",
       "\t\t\t\t\n",
       "\t\t\t{\n",
       "\t\t\t\tvar element = document.getElementById('NetworKit_Overlay');\n",
       "\t\t\t\tif (element) {\n",
       "\t\t\t\t\telement.parentNode.removeChild(element);\n",
       "\t\t\t\t}\n",
       "\t\t\t\telement = document.createElement('div');\n",
       "\t\t\t\telement.innerHTML = '<div id=\"NetworKit_Overlay_Toolbar_Top\"><div class=\"button icon-close\" id=\"NetworKit_Overlay_Close\" /></div><div id=\"NetworKit_Overlay_Title\" /> <div id=\"NetworKit_Overlay_ImageContainer\"> <div id=\"NetworKit_Overlay_Image\" /> </div> <div id=\"NetworKit_Overlay_Toolbar_Bottom\"> <div class=\"button icon-previous\" onclick=\"NetworKit_overlayImageShift(-1)\" /> <div class=\"button icon-next\" onclick=\"NetworKit_overlayImageShift(1)\" /> <a id=\"NetworKit_Overlay_Toolbar_Bottom_Save\"><div class=\"button icon-save\" /></a> </div>';\n",
       "\t\t\t\telement.setAttribute('id', 'NetworKit_Overlay');\n",
       "\t\t\t\tdocument.body.appendChild(element);\n",
       "\t\t\t\tdocument.getElementById('NetworKit_Overlay_Close').onclick = function (e) {\n",
       "\t\t\t\t\tdocument.getElementById('NetworKit_Overlay').style.display = 'none';\n",
       "\t\t\t\t}\n",
       "\t\t\t}\n",
       "\t\t\n",
       "\t\t\t-->\n",
       "\t\t\t</script>\n",
       "\t\t"
      ]
     },
     "metadata": {},
     "output_type": "display_data"
    },
    {
     "name": "stdout",
     "output_type": "stream",
     "text": [
      "omnipose installed\n"
     ]
    }
   ],
   "source": [
    "from flofish.experiment import Experiment"
   ]
  },
  {
   "cell_type": "code",
   "execution_count": 4,
   "id": "66517fe5-9172-4e8c-b8f8-693fa3ad5177",
   "metadata": {},
   "outputs": [],
   "source": [
    "from flofish.image import Image"
   ]
  },
  {
   "cell_type": "code",
   "execution_count": 6,
   "id": "ac958b8f-a24f-476d-8860-0b05eb884eec",
   "metadata": {},
   "outputs": [
    {
     "data": {
      "text/plain": [
       "'/Users/adele/PycharmProjects/flofish/scripts'"
      ]
     },
     "execution_count": 6,
     "metadata": {},
     "output_type": "execute_result"
    }
   ],
   "source": [
    "import os\n",
    "os.getcwd()\n",
    "\n"
   ]
  },
  {
   "cell_type": "markdown",
   "id": "b23a943e-74d6-42a7-b4d0-a07e5e038189",
   "metadata": {},
   "source": [
    "### Download test data"
   ]
  },
  {
   "cell_type": "code",
   "execution_count": 7,
   "id": "fb013312-275b-4e6d-8e3b-12c262673623",
   "metadata": {},
   "outputs": [
    {
     "ename": "ImportError",
     "evalue": "cannot import name 'get_smRNAfish_Ecoli_rpoD_rnlAB_hipBA' from 'napari_flofish' (/Users/adele/PycharmProjects/napari-flofish/napari_flofish/__init__.py)",
     "output_type": "error",
     "traceback": [
      "\u001b[0;31m---------------------------------------------------------------------------\u001b[0m",
      "\u001b[0;31mImportError\u001b[0m                               Traceback (most recent call last)",
      "Cell \u001b[0;32mIn[7], line 1\u001b[0m\n\u001b[0;32m----> 1\u001b[0m \u001b[38;5;28;01mfrom\u001b[39;00m\u001b[38;5;250m \u001b[39m\u001b[38;5;21;01mnapari_flofish\u001b[39;00m\u001b[38;5;250m \u001b[39m\u001b[38;5;28;01mimport\u001b[39;00m get_smRNAfish_Ecoli_rpoD_rnlAB_hipBA\n\u001b[1;32m      2\u001b[0m get_smRNAfish_Ecoli_rpoD_rnlAB_hipBA(\u001b[38;5;124m\"\u001b[39m\u001b[38;5;124m../data\u001b[39m\u001b[38;5;124m\"\u001b[39m)\n",
      "\u001b[0;31mImportError\u001b[0m: cannot import name 'get_smRNAfish_Ecoli_rpoD_rnlAB_hipBA' from 'napari_flofish' (/Users/adele/PycharmProjects/napari-flofish/napari_flofish/__init__.py)"
     ]
    }
   ],
   "source": [
    "from napari_flofish import get_smRNAfish_Ecoli_rpoD_rnlAB_hipBA\n",
    "get_smRNAfish_Ecoli_rpoD_rnlAB_hipBA(\"../data\")"
   ]
  },
  {
   "cell_type": "markdown",
   "id": "eec4d632-969b-4237-88cc-7cf597ceed47",
   "metadata": {},
   "source": [
    "### Read in microscope images"
   ]
  },
  {
   "cell_type": "code",
   "execution_count": 5,
   "id": "d1084a95-a744-429f-8240-c9ae8e9f37ba",
   "metadata": {},
   "outputs": [
    {
     "name": "stdout",
     "output_type": "stream",
     "text": [
      "\u001b[90m2025-02-23 14:56:41,626\t[INFO]                                               \t line  30\tfound cfg file /Volumes/KINGSTON/Florence/smFISH/zenodo/smfish-analysis/tests/data/exp16/config.json\u001b[0m\n",
      "\u001b[90m2025-02-23 14:56:41,628\t[INFO]                                   crea..._list()\t line  43\tgetting .vsi files from /Volumes/KINGSTON/Florence/smFISH/zenodo/smfish-analysis/tests/data/exp16/input\u001b[0m\n",
      "\u001b[90m2025-02-23 14:56:41,628\t[INFO]                                               \t line  46\texamining image /Volumes/KINGSTON/Florence/smFISH/zenodo/smfish-analysis/tests/data/exp16/input/MG1655_GLU_OD_0.3_left_CY5, CY3.5 NAR, CY3, DAPI_02.vsi\u001b[0m\n",
      "\u001b[90m2025-02-23 14:56:41,630\t[INFO]                                               \t line  52\t..found VSI directory _MG1655_GLU_OD_0.3_left_CY5, CY3.5 NAR, CY3, DAPI_02_\u001b[0m\n",
      "\u001b[90m2025-02-23 14:56:41,630\t[INFO]                                               \t line  67\t..found DIC file MG1655_GLU_OD_0.3_left_DIC_02.tif\u001b[0m\n",
      "\u001b[90m2025-02-23 14:56:41,631\t[INFO]                                               \t line  73\t..all good, adding image to image list\u001b[0m\n"
     ]
    }
   ],
   "source": [
    "exp = Experiment.from_cfg_file(\"/Volumes/KINGSTON/Florence/smFISH/zenodo/smfish-analysis/tests/data/exp16/config.json\")\n",
    "exp.create_image_list()"
   ]
  },
  {
   "cell_type": "code",
   "execution_count": 8,
   "id": "5284b185-7d39-452f-a973-96ef3544829d",
   "metadata": {},
   "outputs": [
    {
     "name": "stdout",
     "output_type": "stream",
     "text": [
      "\u001b[90m2025-02-23 14:57:25,638\t[INFO]     ipykernel_52428/441914148.py  <module>....()\t line   2\t{'vsi_file': 'MG1655_GLU_OD_0.3_left_CY5, CY3.5 NAR, CY3, DAPI_02.vsi', 'cell_file': 'MG1655_GLU_OD_0.3_left_DIC_02.tif', 'valid': True}\u001b[0m\n",
      "\u001b[90m2025-02-23 14:57:25,639\t[INFO]     flofish/image.py              __init__....()\t line  77\tcreated output dir /Volumes/KINGSTON/Florence/smFISH/zenodo/smfish-analysis/tests/data/exp16/output/MG1655_GLU_OD_0.3_left_02\u001b[0m\n",
      "\u001b[90m2025-02-23 14:57:25,640\t[INFO]                                   read_image..()\t line 102\treading fluorescence image: MG1655_GLU_OD_0.3_left_CY5, CY3.5 NAR, CY3, DAPI_02.vsi\u001b[0m\n"
     ]
    },
    {
     "name": "stderr",
     "output_type": "stream",
     "text": [
      "SLF4J: No SLF4J providers were found.\n",
      "SLF4J: Defaulting to no-operation (NOP) logger implementation\n",
      "SLF4J: See https://www.slf4j.org/codes.html#noProviders for further details.\n"
     ]
    },
    {
     "name": "stdout",
     "output_type": "stream",
     "text": [
      "\u001b[90m2025-02-23 14:57:27,811\t[INFO]                                               \t line 104\t..found scenes: ('CY5, CY3.5 NAR, CY3, DAPI', 'macro image')\u001b[0m\n",
      "\u001b[90m2025-02-23 14:57:28,359\t[INFO]                                               \t line 110\t....reading scene 'CY5, CY3.5 NAR, CY3, DAPI' (shape (1, 4, 31, 2304, 2304))\u001b[0m\n",
      "\u001b[90m2025-02-23 14:57:28,360\t[INFO]                                               \t line 111\t....found channels ['CY5', 'CY3.5 NAR', 'CY3', 'DAPI']\u001b[0m\n",
      "\u001b[90m2025-02-23 14:57:28,360\t[INFO]                                               \t line 118\t......reading in channel: C=0 filter=CY5 mrna=hipBA\u001b[0m\n",
      "\u001b[90m2025-02-23 14:57:48,540\t[INFO]                                               \t line 118\t......reading in channel: C=1 filter=CY3.5 NAR mrna=rnlAB\u001b[0m\n",
      "\u001b[90m2025-02-23 14:57:48,541\t[INFO]                                               \t line 118\t......reading in channel: C=2 filter=CY3 mrna=rpoD\u001b[0m\n",
      "\u001b[90m2025-02-23 14:57:48,541\t[INFO]                                               \t line 118\t......reading in channel: C=3 filter=DAPI mrna=DAPI\u001b[0m\n",
      "\u001b[90m2025-02-23 14:57:48,541\t[INFO]                                               \t line 107\t....ignoring scene 'macro image'\u001b[0m\n",
      "\u001b[90m2025-02-23 14:57:48,541\t[INFO]                                   read_cells..()\t line 143\treading cell image: MG1655_GLU_OD_0.3_left_DIC_02.tif\u001b[0m\n",
      "\u001b[90m2025-02-23 14:57:48,561\t[INFO]                                   align.......()\t line 158\taligning DIC image by: [-10, 10]\u001b[0m\n",
      "\u001b[90m2025-02-23 14:57:48,566\t[INFO]                                   create_grgb.()\t line 174\tcreating GRGB composite image\u001b[0m\n",
      "\u001b[90m2025-02-23 14:57:48,765\t[INFO]                                   save...ayers()\t line 181\tsaving layers to: /Volumes/KINGSTON/Florence/smFISH/zenodo/smfish-analysis/tests/data/exp16/output/MG1655_GLU_OD_0.3_left_02\u001b[0m\n",
      "\u001b[90m2025-02-23 14:57:50,299\t[INFO]                                               \t line 187\t..saving hipBA channel to /Volumes/KINGSTON/Florence/smFISH/zenodo/smfish-analysis/tests/data/exp16/output/MG1655_GLU_OD_0.3_left_02/hipBA.tif\u001b[0m\n",
      "\u001b[90m2025-02-23 14:57:51,684\t[INFO]                                               \t line 187\t..saving rnlAB channel to /Volumes/KINGSTON/Florence/smFISH/zenodo/smfish-analysis/tests/data/exp16/output/MG1655_GLU_OD_0.3_left_02/rnlAB.tif\u001b[0m\n",
      "\u001b[90m2025-02-23 14:57:53,308\t[INFO]                                               \t line 187\t..saving rpoD channel to /Volumes/KINGSTON/Florence/smFISH/zenodo/smfish-analysis/tests/data/exp16/output/MG1655_GLU_OD_0.3_left_02/rpoD.tif\u001b[0m\n",
      "\u001b[90m2025-02-23 14:57:55,029\t[INFO]                                               \t line 187\t..saving DAPI channel to /Volumes/KINGSTON/Florence/smFISH/zenodo/smfish-analysis/tests/data/exp16/output/MG1655_GLU_OD_0.3_left_02/DAPI.tif\u001b[0m\n",
      "\u001b[90m2025-02-23 14:57:55,085\t[INFO]                                               \t line 194\t..saving DIC channel to /Volumes/KINGSTON/Florence/smFISH/zenodo/smfish-analysis/tests/data/exp16/output/MG1655_GLU_OD_0.3_left_02/DIC.tif\u001b[0m\n",
      "\u001b[90m2025-02-23 14:57:55,282\t[INFO]                                   save...adata()\t line 201\tsaving metadata to file: /Volumes/KINGSTON/Florence/smFISH/zenodo/smfish-analysis/tests/data/exp16/output/MG1655_GLU_OD_0.3_left_02/img.json\u001b[0m\n"
     ]
    }
   ],
   "source": [
    "for params in exp.images.values():\n",
    "    logging.info(params)\n",
    "    my_image = Image.from_dict(params, exp)\n",
    "\n",
    "    tic = time.time()\n",
    "    my_image.read_image()\n",
    "    my_image.read_cells()\n",
    "    my_image.align()\n",
    "    my_image.create_grgb()\n",
    "\n",
    "    # save image (write to dir)\n",
    "    my_image.save_input_layers()\n",
    "    my_image.time['01-configure'] = time.time() - tic\n",
    "    my_image.save_metadata(\"configure\")"
   ]
  },
  {
   "cell_type": "markdown",
   "id": "42e89177-87f1-45c7-80aa-9b5a6a1a512a",
   "metadata": {},
   "source": [
    "### Segment images"
   ]
  },
  {
   "cell_type": "markdown",
   "id": "653537fe-f7ed-4001-9c0d-92d567192263",
   "metadata": {},
   "source": [
    "### Detect spots"
   ]
  },
  {
   "cell_type": "code",
   "execution_count": null,
   "id": "4ad8abbb-d323-41da-812b-a2d5898eccf6",
   "metadata": {},
   "outputs": [],
   "source": []
  }
 ],
 "metadata": {
  "kernelspec": {
   "display_name": "omnipose",
   "language": "python",
   "name": "omnipose"
  },
  "language_info": {
   "codemirror_mode": {
    "name": "ipython",
    "version": 3
   },
   "file_extension": ".py",
   "mimetype": "text/x-python",
   "name": "python",
   "nbconvert_exporter": "python",
   "pygments_lexer": "ipython3",
   "version": "3.10.16"
  }
 },
 "nbformat": 4,
 "nbformat_minor": 5
}
