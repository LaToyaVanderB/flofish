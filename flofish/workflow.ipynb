{
 "cells": [
  {
   "cell_type": "code",
   "execution_count": 3,
   "id": "9e45676b-12b6-40d7-b3af-493633d2e509",
   "metadata": {},
   "outputs": [],
   "source": [
    "import time, logging\n",
    "from pathlib import Path\n",
    "from flofish.experiment import Experiment\n",
    "from flofish.image import Image"
   ]
  },
  {
   "cell_type": "code",
   "execution_count": 6,
   "id": "ac958b8f-a24f-476d-8860-0b05eb884eec",
   "metadata": {},
   "outputs": [
    {
     "data": {
      "text/plain": [
       "'/Users/adele/PycharmProjects/flofish/flofish'"
      ]
     },
     "execution_count": 6,
     "metadata": {},
     "output_type": "execute_result"
    }
   ],
   "source": [
    "import os\n",
    "os.getcwd()\n",
    "\n"
   ]
  },
  {
   "cell_type": "markdown",
   "id": "b23a943e-74d6-42a7-b4d0-a07e5e038189",
   "metadata": {},
   "source": [
    "### Download test data"
   ]
  },
  {
   "cell_type": "code",
   "execution_count": 12,
   "id": "fb013312-275b-4e6d-8e3b-12c262673623",
   "metadata": {},
   "outputs": [],
   "source": [
    "from napari_flofish import get_smRNAfish_Ecoli_rpoD_rnlAB_hipBA\n",
    "get_smRNAfish_Ecoli_rpoD_rnlAB_hipBA(Path(\"tests/data/exp16/expected\"), cleanup=False)"
   ]
  },
  {
   "cell_type": "markdown",
   "id": "eec4d632-969b-4237-88cc-7cf597ceed47",
   "metadata": {},
   "source": [
    "### Read in microscope images"
   ]
  },
  {
   "cell_type": "code",
   "execution_count": 13,
   "id": "d1084a95-a744-429f-8240-c9ae8e9f37ba",
   "metadata": {},
   "outputs": [
    {
     "name": "stdout",
     "output_type": "stream",
     "text": [
      "\u001b[90m2025-02-25 16:53:50,946\t[INFO]                                   from..._file()\t line  30\tfound cfg file tests/data/exp16/input/config.json\u001b[0m\n",
      "\u001b[90m2025-02-25 16:53:50,947\t[INFO]                                   crea..._list()\t line  43\tgetting .vsi files from flofish/tests/data/exp16/input\u001b[0m\n"
     ]
    }
   ],
   "source": [
    "exp = Experiment.from_cfg_file(\"tests/data/exp16/input/config.json\")\n",
    "exp.create_image_list()"
   ]
  },
  {
   "cell_type": "code",
   "execution_count": 15,
   "id": "5284b185-7d39-452f-a973-96ef3544829d",
   "metadata": {},
   "outputs": [],
   "source": [
    "for params in exp.images.values():\n",
    "    logging.info(params)\n",
    "    my_image = Image.from_dict(params, exp)\n",
    "\n",
    "    tic = time.time()\n",
    "    my_image.read_image()\n",
    "    my_image.read_cells()\n",
    "    my_image.align()\n",
    "    my_image.create_grgb()\n",
    "\n",
    "    # save image (write to dir)\n",
    "    my_image.save_input_layers()\n",
    "    my_image.time['01-configure'] = time.time() - tic\n",
    "    my_image.save_metadata(\"configure\")"
   ]
  },
  {
   "cell_type": "markdown",
   "id": "42e89177-87f1-45c7-80aa-9b5a6a1a512a",
   "metadata": {},
   "source": [
    "### Segment images"
   ]
  },
  {
   "cell_type": "markdown",
   "id": "653537fe-f7ed-4001-9c0d-92d567192263",
   "metadata": {},
   "source": [
    "### Detect spots"
   ]
  },
  {
   "cell_type": "code",
   "execution_count": null,
   "id": "4ad8abbb-d323-41da-812b-a2d5898eccf6",
   "metadata": {},
   "outputs": [],
   "source": []
  }
 ],
 "metadata": {
  "kernelspec": {
   "display_name": "omnipose",
   "language": "python",
   "name": "python3"
  },
  "language_info": {
   "codemirror_mode": {
    "name": "ipython",
    "version": 3
   },
   "file_extension": ".py",
   "mimetype": "text/x-python",
   "name": "python",
   "nbconvert_exporter": "python",
   "pygments_lexer": "ipython3",
   "version": "3.10.16"
  }
 },
 "nbformat": 4,
 "nbformat_minor": 5
}
